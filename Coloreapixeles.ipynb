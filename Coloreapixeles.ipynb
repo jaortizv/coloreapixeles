{
 "cells": [
  {
   "cell_type": "markdown",
   "id": "360be557",
   "metadata": {},
   "source": [
    "# Colorear los pixeles"
   ]
  },
  {
   "cell_type": "code",
   "execution_count": 1,
   "id": "c7dcacf5",
   "metadata": {},
   "outputs": [],
   "source": [
    "from PIL import Image"
   ]
  },
  {
   "cell_type": "code",
   "execution_count": 2,
   "id": "837973bc",
   "metadata": {},
   "outputs": [
    {
     "data": {
      "image/png": "[encoded data removed]",
      "text/plain": [
       "<PIL.Image.Image image mode=RGB size=1x1 at 0x1FAE2E35280>"
      ]
     },
     "execution_count": 2,
     "metadata": {},
     "output_type": "execute_result"
    }
   ],
   "source": [
    "img = Image.new('RGB', (1,1), 0)\n",
    "img\n",
    "#un punto"
   ]
  },
  {
   "cell_type": "code",
   "execution_count": 3,
   "id": "8296f49f",
   "metadata": {},
   "outputs": [
    {
     "data": {
      "image/png": "[encoded data removed]",
      "text/plain": [
       "<PIL.Image.Image image mode=RGB size=5x5 at 0x1FAE2EF33D0>"
      ]
     },
     "execution_count": 3,
     "metadata": {},
     "output_type": "execute_result"
    }
   ],
   "source": [
    "img = Image.new('RGB', (5,5), 0)\n",
    "img\n",
    "# colorear de negro (0) un cuadrado de 25 pixls (5x5)"
   ]
  },
  {
   "cell_type": "code",
   "execution_count": 4,
   "id": "d067d555",
   "metadata": {},
   "outputs": [
    {
     "data": {
      "image/png": "[encoded data removed]",
      "text/plain": [
       "<PIL.Image.Image image mode=RGB size=10x10 at 0x1FAE2EF3070>"
      ]
     },
     "execution_count": 4,
     "metadata": {},
     "output_type": "execute_result"
    }
   ],
   "source": [
    "img = Image.new('RGB', (10,10), 0)\n",
    "img\n",
    "# hacer el cuadrado más grande 100 pixls (10x10)"
   ]
  },
  {
   "cell_type": "code",
   "execution_count": 5,
   "id": "b3d10571",
   "metadata": {},
   "outputs": [
    {
     "data": {
      "image/png": "[encoded data removed]",
      "text/plain": [
       "<PIL.Image.Image image mode=RGB size=100x10 at 0x1FAE2EF3130>"
      ]
     },
     "execution_count": 5,
     "metadata": {},
     "output_type": "execute_result"
    }
   ],
   "source": [
    "img = Image.new('RGB', (100,10), 0)\n",
    "img\n",
    "# cambiar la dimensión x (100)"
   ]
  },
  {
   "cell_type": "code",
   "execution_count": 6,
   "id": "84feec33",
   "metadata": {},
   "outputs": [
    {
     "data": {
      "image/png": "[encoded data removed]",
      "text/plain": [
       "<PIL.Image.Image image mode=RGB size=100x1 at 0x1FAE2EF3700>"
      ]
     },
     "execution_count": 6,
     "metadata": {},
     "output_type": "execute_result"
    }
   ],
   "source": [
    "img = Image.new('RGB', (100,1), 0)\n",
    "img\n",
    "#cambiar la dimensión y (1)"
   ]
  },
  {
   "cell_type": "code",
   "execution_count": 7,
   "id": "f38c4e2f",
   "metadata": {},
   "outputs": [
    {
     "data": {
      "image/png": "[encoded data removed]",
      "text/plain": [
       "<PIL.Image.Image image mode=RGB size=100x5 at 0x1FAE2EF3730>"
      ]
     },
     "execution_count": 7,
     "metadata": {},
     "output_type": "execute_result"
    }
   ],
   "source": [
    "img = Image.new('RGB', (100,5), 0)\n",
    "img\n",
    "# empezar a aumentar la dimensión y (5)"
   ]
  },
  {
   "cell_type": "code",
   "execution_count": 8,
   "id": "7cf17aa4",
   "metadata": {},
   "outputs": [
    {
     "data": {
      "image/png": "[encoded data removed]",
      "text/plain": [
       "<PIL.Image.Image image mode=RGB size=100x10 at 0x1FAE2EF3670>"
      ]
     },
     "execution_count": 8,
     "metadata": {},
     "output_type": "execute_result"
    }
   ],
   "source": [
    "img = Image.new('RGB', (100,10), 0)\n",
    "img\n",
    "# la dimensión y aumenta hacía abajo de la pantalla, diferente al plano cartesiano de costumbre"
   ]
  },
  {
   "cell_type": "code",
   "execution_count": 9,
   "id": "a83da01c",
   "metadata": {},
   "outputs": [
    {
     "data": {
      "image/png": "[encoded data removed]",
      "text/plain": [
       "<PIL.Image.Image image mode=RGB size=200x200 at 0x1FAE2EF3220>"
      ]
     },
     "execution_count": 9,
     "metadata": {},
     "output_type": "execute_result"
    }
   ],
   "source": [
    "img = Image.new('RGB', (200,200), 0)\n",
    "img\n",
    "# crear una cuadrícula de 200x200"
   ]
  },
  {
   "cell_type": "code",
   "execution_count": 10,
   "id": "49cbd1bc",
   "metadata": {},
   "outputs": [
    {
     "data": {
      "text/plain": [
       "(0, 0, 0)"
      ]
     },
     "execution_count": 10,
     "metadata": {},
     "output_type": "execute_result"
    }
   ],
   "source": [
    "pixeles = img.load()\n",
    "pixeles[0,0]\n",
    "#utilizar .load para crear la variable pixeles que para cada par (x,y) permite establecer el color"
   ]
  },
  {
   "cell_type": "code",
   "execution_count": 11,
   "id": "c795e80f",
   "metadata": {},
   "outputs": [
    {
     "data": {
      "image/png": "[encoded data removed]",
      "text/plain": [
       "<PIL.Image.Image image mode=RGB size=200x200 at 0x1FAE2EF3220>"
      ]
     },
     "execution_count": 11,
     "metadata": {},
     "output_type": "execute_result"
    }
   ],
   "source": [
    "pixeles[100,100]=(255, 255, 0)\n",
    "img\n",
    "#utilizando pixeles para cambiar el color del punto (100,100) se le asigna el color amarillo (255,255,0)"
   ]
  },
  {
   "cell_type": "code",
   "execution_count": 12,
   "id": "465503a7",
   "metadata": {
    "scrolled": true
   },
   "outputs": [
    {
     "data": {
      "image/png": "[encoded data removed]",
      "text/plain": [
       "<PIL.Image.Image image mode=RGB size=200x200 at 0x1FAE2EF3220>"
      ]
     },
     "execution_count": 12,
     "metadata": {},
     "output_type": "execute_result"
    }
   ],
   "source": [
    "for y in range(img.size[1]):\n",
    "    pixeles[88,y]=(255, 255, 0)\n",
    "img\n",
    "#colorear de amarillo todos los puntos donde x=88"
   ]
  },
  {
   "cell_type": "code",
   "execution_count": 13,
   "id": "4ed8e0f7",
   "metadata": {},
   "outputs": [
    {
     "data": {
      "image/png": "[encoded data removed]",
      "text/plain": [
       "<PIL.Image.Image image mode=RGB size=200x200 at 0x1FAE2EF3100>"
      ]
     },
     "execution_count": 13,
     "metadata": {},
     "output_type": "execute_result"
    }
   ],
   "source": [
    "img = Image.new('RGB', (200,200), 0)\n",
    "pixeles = img.load()\n",
    "for y in range(img.size[1]):\n",
    "    for x in range(img.size[0]):\n",
    "        if 10000 == (x*x)+(y*y):\n",
    "            pixeles[x,y]=(255,255,0)\n",
    "img\n",
    "#hacer una circunferencia [ecuación: r^2 = (x-h)^2+(y-k)^2] el radio es de 100 y está centrada en x=0, y=0"
   ]
  },
  {
   "cell_type": "code",
   "execution_count": 14,
   "id": "92a88f4f",
   "metadata": {},
   "outputs": [
    {
     "data": {
      "image/png": "[encoded data removed]",
      "text/plain": [
       "<PIL.Image.Image image mode=RGB size=200x200 at 0x1FAE2EF3DC0>"
      ]
     },
     "execution_count": 14,
     "metadata": {},
     "output_type": "execute_result"
    }
   ],
   "source": [
    "img = Image.new('RGB', (200,200), 0)\n",
    "pixeles = img.load()\n",
    "\n",
    "for y in range(img.size[1]):\n",
    "    for x in range(img.size[0]):\n",
    "        if 1 == ((x-100)*(x-100))+((y-100)*(y-100)):\n",
    "            pixeles[x,y]=(255,255,0)\n",
    "img\n",
    "#cambiando el radio de la circunferencia y su centro; ahora radio es 1 y el centro (100,100)"
   ]
  },
  {
   "cell_type": "code",
   "execution_count": 15,
   "id": "c3a8dc7f",
   "metadata": {},
   "outputs": [
    {
     "data": {
      "image/png": "[encoded data removed]",
      "text/plain": [
       "<PIL.Image.Image image mode=RGB size=200x200 at 0x1FAE2EF33A0>"
      ]
     },
     "execution_count": 15,
     "metadata": {},
     "output_type": "execute_result"
    }
   ],
   "source": [
    "img = Image.new('RGB', (200,200), 0)\n",
    "pixeles = img.load()\n",
    "\n",
    "for y in range(img.size[1]):\n",
    "    for x in range(img.size[0]):\n",
    "        if 10 == ((x-100)*(x-100))+((y-100)*(y-100)):\n",
    "            pixeles[x,y]=(255,255,0)\n",
    "img\n",
    "#ampliando el radio de la circunferencia"
   ]
  },
  {
   "cell_type": "code",
   "execution_count": 16,
   "id": "63ffc58c",
   "metadata": {},
   "outputs": [
    {
     "data": {
      "image/png": "[encoded data removed]",
      "text/plain": [
       "<PIL.Image.Image image mode=RGB size=200x200 at 0x1FAE2EF3430>"
      ]
     },
     "execution_count": 16,
     "metadata": {},
     "output_type": "execute_result"
    }
   ],
   "source": [
    "img = Image.new('RGB', (200,200), 0)\n",
    "pixeles = img.load()\n",
    "for y in range(img.size[1]):\n",
    "    for x in range(img.size[0]):\n",
    "        if 3600 == ((x-100)*(x-100))+((y-100)*(y-100)):\n",
    "            pixeles[x,y]=(255,255,0)\n",
    "img\n",
    "#ampliando el radio de la circunferencia"
   ]
  },
  {
   "cell_type": "code",
   "execution_count": 17,
   "id": "72f15240",
   "metadata": {},
   "outputs": [
    {
     "data": {
      "image/png": "[encoded data removed]",
      "text/plain": [
       "<PIL.Image.Image image mode=RGB size=200x200 at 0x1FAE2F0B130>"
      ]
     },
     "execution_count": 17,
     "metadata": {},
     "output_type": "execute_result"
    }
   ],
   "source": [
    "img = Image.new('RGB', (200,200), 0)\n",
    "pixeles = img.load()\n",
    "for y in range(img.size[1]):\n",
    "    for x in range(img.size[0]):\n",
    "        for i in range(0,820):\n",
    "            if i == ((x-100)*(x-100))+((y-100)*(y-100)):\n",
    "                pixeles[x,y]=(255,255,0)\n",
    "img\n",
    "#coloreando varias circunferencias, cambiando el radio (i)"
   ]
  },
  {
   "cell_type": "code",
   "execution_count": 18,
   "id": "b409d5da",
   "metadata": {},
   "outputs": [
    {
     "data": {
      "image/png": "[encoded data removed]",
      "text/plain": [
       "<PIL.Image.Image image mode=RGB size=200x200 at 0x1FAE2F0B0D0>"
      ]
     },
     "execution_count": 18,
     "metadata": {},
     "output_type": "execute_result"
    }
   ],
   "source": [
    "img = Image.new('RGB', (200,200), 0)\n",
    "pixeles = img.load()\n",
    "for y in range(img.size[1]):\n",
    "    for x in range(img.size[0]):\n",
    "        for i in range(200,820):\n",
    "            if i == ((x-100)*(x-100))+((y-100)*(y-100)):\n",
    "                pixeles[x,y]=(255,255,0)\n",
    "img\n",
    "#modificando i para que no se creen circunferencias hasta que el radio sea raíz cuadrada de 200"
   ]
  },
  {
   "cell_type": "code",
   "execution_count": 19,
   "id": "cbbbab71",
   "metadata": {},
   "outputs": [
    {
     "data": {
      "image/png": "[encoded data removed]",
      "text/plain": [
       "<PIL.Image.Image image mode=RGB size=200x200 at 0x1FAE2F0B2B0>"
      ]
     },
     "execution_count": 19,
     "metadata": {},
     "output_type": "execute_result"
    }
   ],
   "source": [
    "img = Image.new('RGB', (200,200), 0)\n",
    "pixeles = img.load()\n",
    "for y in range(img.size[1]):\n",
    "    for x in range(img.size[0]):\n",
    "        for i in range(200,820):\n",
    "            if i == ((x-50)*(x-50))+((y-100)*(y-100)):\n",
    "                pixeles[x,y]=(255,255,0)\n",
    "img\n",
    "# cambiando la posición de las circunferencias en el eje horizontal"
   ]
  },
  {
   "cell_type": "code",
   "execution_count": 20,
   "id": "a3066276",
   "metadata": {},
   "outputs": [
    {
     "data": {
      "image/png": "[encoded data removed]",
      "text/plain": [
       "<PIL.Image.Image image mode=RGB size=200x200 at 0x1FAE2F0B2B0>"
      ]
     },
     "execution_count": 20,
     "metadata": {},
     "output_type": "execute_result"
    }
   ],
   "source": [
    "for y in range(img.size[1]):\n",
    "    for x in range(img.size[0]):\n",
    "        for i in range(200,820):\n",
    "            if i == ((x-150)*(x-150))+((y-100)*(y-100)):\n",
    "                pixeles[x,y]=(255,255,0)\n",
    "img\n",
    "#creando los ojos"
   ]
  },
  {
   "cell_type": "code",
   "execution_count": 21,
   "id": "63f93803",
   "metadata": {},
   "outputs": [
    {
     "data": {
      "image/png": "[encoded data removed]",
      "text/plain": [
       "<PIL.Image.Image image mode=RGB size=200x200 at 0x1FAE2F0B2B0>"
      ]
     },
     "execution_count": 21,
     "metadata": {},
     "output_type": "execute_result"
    }
   ],
   "source": [
    "for y in range(img.size[1]):\n",
    "    for x in range(img.size[0]):\n",
    "        for i in range(800,2000):\n",
    "            if i == ((x-100)*(x-100))+((y-180)*(y-180)):\n",
    "                pixeles[x,y]=(255,255,0)\n",
    "img\n",
    "#Boo-Boo saluda"
   ]
  },
  {
   "cell_type": "code",
   "execution_count": 22,
   "id": "7a68b4ea",
   "metadata": {},
   "outputs": [
    {
     "data": {
      "image/png": "[encoded data removed]",
      "text/plain": [
       "<PIL.Image.Image image mode=RGB size=200x200 at 0x1FAE2F11D60>"
      ]
     },
     "execution_count": 22,
     "metadata": {},
     "output_type": "execute_result"
    }
   ],
   "source": [
    "img = Image.new('RGB', (200,200), 0)\n",
    "pixeles = img.load()\n",
    "\n",
    "for y in range(img.size[1]):\n",
    "    for x in range(img.size[0]):\n",
    "        for i in range(100,800):\n",
    "            if i == ((x-50)*(x-50))+((y-100)*(y-100)):\n",
    "                pixeles[x,y]=(255,255,0)\n",
    "                \n",
    "for y in range(img.size[1]):\n",
    "    for x in range(img.size[0]):\n",
    "        for i in range(200,1500):\n",
    "            if i == ((x-100)*(x-100))+((y-30)*(y-30)):\n",
    "                pixeles[x,y]=(255,255,0)\n",
    "\n",
    "for y in range(img.size[1]):\n",
    "    for x in range(img.size[0]):\n",
    "        for i in range(800,2000):\n",
    "            if i == ((x-170)*(x-170))+((y-150)*(y-150)):\n",
    "                pixeles[x,y]=(255,255,0)\n",
    "img\n",
    "#Boo-Boo sorprendido"
   ]
  },
  {
   "cell_type": "markdown",
   "id": "bae51ecd",
   "metadata": {},
   "source": [
    "# Una función para colorear"
   ]
  },
  {
   "cell_type": "code",
   "execution_count": 23,
   "id": "7821a371",
   "metadata": {},
   "outputs": [],
   "source": [
    "def colorea(x,y):\n",
    "    for i in range(0,500):\n",
    "        if i == ((x-100)*(x-100))+((y-100)*(y-100)):\n",
    "                return (255,255,0)\n",
    "    return (0,0,0)"
   ]
  },
  {
   "cell_type": "code",
   "execution_count": 24,
   "id": "46cc60de",
   "metadata": {},
   "outputs": [
    {
     "data": {
      "image/png": "[encoded data removed]",
      "text/plain": [
       "<PIL.Image.Image image mode=RGB size=200x200 at 0x1FAE2F0B850>"
      ]
     },
     "execution_count": 24,
     "metadata": {},
     "output_type": "execute_result"
    }
   ],
   "source": [
    "img = Image.new('RGB', (200,200), 0)\n",
    "pixeles = img.load()\n",
    "\n",
    "for y in range(img.size[1]):\n",
    "    for x in range(img.size[0]):\n",
    "        pixeles[x,y]=colorea(x,y)\n",
    "img\n",
    "#se invoca la función colorea para colorear 500 circunferencias"
   ]
  },
  {
   "cell_type": "code",
   "execution_count": 25,
   "id": "6b8f8cf6",
   "metadata": {},
   "outputs": [],
   "source": [
    "def colorea(x,y):\n",
    "    for i in range(0,25):\n",
    "        if i == (y)-(x*x):\n",
    "                return (255,255,0)\n",
    "    return (0,0,0)\n",
    "#cambio de la función para colorear una cuadrática y = x^2"
   ]
  },
  {
   "cell_type": "code",
   "execution_count": 26,
   "id": "0ea03a57",
   "metadata": {},
   "outputs": [
    {
     "data": {
      "image/png": "[encoded data removed]",
      "text/plain": [
       "<PIL.Image.Image image mode=RGB size=200x200 at 0x1FAE2F0B310>"
      ]
     },
     "execution_count": 26,
     "metadata": {},
     "output_type": "execute_result"
    }
   ],
   "source": [
    "img = Image.new('RGB', (200,200), 0)\n",
    "pixeles = img.load()\n",
    "\n",
    "for y in range(img.size[1]):\n",
    "    for x in range(img.size[0]):\n",
    "        pixeles[x,y]=colorea(x-100,y-100)\n",
    "img"
   ]
  },
  {
   "cell_type": "code",
   "execution_count": 27,
   "id": "0ea14e4d",
   "metadata": {},
   "outputs": [],
   "source": [
    "def colorea(x,y):\n",
    "    for i in range(0,250):\n",
    "        if i == (y)-(x*x):\n",
    "                return (255,255,0)\n",
    "    return (0,0,0)\n",
    "#aumentando el número de curvas ha trazar range(0,250)"
   ]
  },
  {
   "cell_type": "code",
   "execution_count": 28,
   "id": "cf1ad957",
   "metadata": {},
   "outputs": [
    {
     "data": {
      "image/png": "[encoded data removed]",
      "text/plain": [
       "<PIL.Image.Image image mode=RGB size=200x200 at 0x1FAE2F0B370>"
      ]
     },
     "execution_count": 28,
     "metadata": {},
     "output_type": "execute_result"
    }
   ],
   "source": [
    "img = Image.new('RGB', (200,200), 0)\n",
    "pixeles = img.load()\n",
    "\n",
    "for y in range(img.size[1]):\n",
    "    for x in range(img.size[0]):\n",
    "        pixeles[x,y]=colorea(x-100,y-100)\n",
    "img"
   ]
  },
  {
   "cell_type": "code",
   "execution_count": 29,
   "id": "c2604441",
   "metadata": {},
   "outputs": [],
   "source": [
    "def colorea(x,y):\n",
    "    for i in range(0,25):\n",
    "        if i == (y)-(x*x):\n",
    "                return (255,255,0)\n",
    "    return (0,0,0)"
   ]
  },
  {
   "cell_type": "code",
   "execution_count": 30,
   "id": "c6663985",
   "metadata": {},
   "outputs": [
    {
     "data": {
      "image/png": "[encoded data removed]",
      "text/plain": [
       "<PIL.Image.Image image mode=RGB size=200x200 at 0x1FAE2F11B20>"
      ]
     },
     "execution_count": 30,
     "metadata": {},
     "output_type": "execute_result"
    }
   ],
   "source": [
    "img = Image.new('RGB', (200,200), 0)\n",
    "pixeles = img.load()\n",
    "\n",
    "for y in range(img.size[1]):\n",
    "    for x in range(img.size[0]):\n",
    "        pixeles[x,y]=colorea(x-100,y)\n",
    "img\n",
    "# ajuste en eje vertical"
   ]
  },
  {
   "cell_type": "code",
   "execution_count": 31,
   "id": "ade75192",
   "metadata": {},
   "outputs": [],
   "source": [
    "def colorea(x,y):\n",
    "    for i in range(0,25):\n",
    "        if i == -(y)-(x*x):\n",
    "                return (255,255,0)\n",
    "    return (0,0,0)\n",
    "#ajuste en eje vertical (-1) para poder invertir la curva. Pasa de 0 = y-x^2 a 0 = -y-x^2"
   ]
  },
  {
   "cell_type": "code",
   "execution_count": 32,
   "id": "1d00d1da",
   "metadata": {},
   "outputs": [
    {
     "data": {
      "image/png": "[encoded data removed]",
      "text/plain": [
       "<PIL.Image.Image image mode=RGB size=200x200 at 0x1FAE2F113A0>"
      ]
     },
     "execution_count": 32,
     "metadata": {},
     "output_type": "execute_result"
    }
   ],
   "source": [
    "img = Image.new('RGB', (200,200), 0)\n",
    "pixeles = img.load()\n",
    "\n",
    "for y in range(img.size[1]):\n",
    "    for x in range(img.size[0]):\n",
    "        pixeles[x,y]=colorea(x-100,y-200)\n",
    "img"
   ]
  },
  {
   "cell_type": "code",
   "execution_count": 33,
   "id": "11cce0b7",
   "metadata": {},
   "outputs": [],
   "source": [
    "def colorea(x,y):\n",
    "    for i in range(0,30):\n",
    "        if i == -(y)-(x*x*x):\n",
    "                return (255,255,0)\n",
    "    return (0,0,0)\n",
    "#cambiando para colorear una función grado 3"
   ]
  },
  {
   "cell_type": "code",
   "execution_count": 34,
   "id": "3cb311b4",
   "metadata": {},
   "outputs": [
    {
     "data": {
      "image/png": "[encoded data removed]",
      "text/plain": [
       "<PIL.Image.Image image mode=RGB size=200x200 at 0x1FAE2F2F4F0>"
      ]
     },
     "execution_count": 34,
     "metadata": {},
     "output_type": "execute_result"
    }
   ],
   "source": [
    "img = Image.new('RGB', (200,200), 0)\n",
    "pixeles = img.load()\n",
    "\n",
    "for y in range(img.size[1]):\n",
    "    for x in range(img.size[0]):\n",
    "        pixeles[x,y]=colorea(x-100,y-100)\n",
    "img"
   ]
  },
  {
   "cell_type": "markdown",
   "id": "490291e6",
   "metadata": {},
   "source": [
    "# líneas recta"
   ]
  },
  {
   "cell_type": "code",
   "execution_count": 35,
   "id": "a161e6c0",
   "metadata": {},
   "outputs": [],
   "source": [
    "def colorea(x,y):\n",
    "    for i in range(0,5):\n",
    "        if i == -y-x:\n",
    "                return (255,255,0)\n",
    "    return (0,0,0)\n",
    "#ajustar función para colorear 5 líneas rectas i = -y-x"
   ]
  },
  {
   "cell_type": "code",
   "execution_count": 36,
   "id": "e16c3d99",
   "metadata": {},
   "outputs": [
    {
     "data": {
      "image/png": "[encoded data removed]",
      "text/plain": [
       "<PIL.Image.Image image mode=RGB size=200x200 at 0x1FAE2F2FFA0>"
      ]
     },
     "execution_count": 36,
     "metadata": {},
     "output_type": "execute_result"
    }
   ],
   "source": [
    "img = Image.new('RGB', (200,200), 0)\n",
    "pixeles = img.load()\n",
    "\n",
    "for y in range(img.size[1]):\n",
    "    for x in range(img.size[0]):\n",
    "        pixeles[x,y]=colorea(x-100,y-100)\n",
    "img"
   ]
  },
  {
   "cell_type": "code",
   "execution_count": 37,
   "id": "7767c768",
   "metadata": {},
   "outputs": [],
   "source": [
    "def colorea(x,y):\n",
    "    for i in range(0,5):\n",
    "        if i == -y-x:\n",
    "                return (255,255,0)\n",
    "        elif i == -y-(2*x):\n",
    "            return (255,255,0)\n",
    "    return (0,0,0)\n",
    "#ajuste para dibujar rectas con diferente pendiente"
   ]
  },
  {
   "cell_type": "code",
   "execution_count": 38,
   "id": "02eda3ce",
   "metadata": {},
   "outputs": [
    {
     "data": {
      "image/png": "[encoded data removed]",
      "text/plain": [
       "<PIL.Image.Image image mode=RGB size=200x200 at 0x1FAE2F2F160>"
      ]
     },
     "execution_count": 38,
     "metadata": {},
     "output_type": "execute_result"
    }
   ],
   "source": [
    "img = Image.new('RGB', (200,200), 0)\n",
    "pixeles = img.load()\n",
    "\n",
    "for y in range(img.size[1]):\n",
    "    for x in range(img.size[0]):\n",
    "        pixeles[x,y]=colorea(x-100,y-100)\n",
    "img"
   ]
  },
  {
   "cell_type": "code",
   "execution_count": 39,
   "id": "c3e17e7b",
   "metadata": {},
   "outputs": [],
   "source": [
    "def colorea(x,y):\n",
    "    for i in range(0,5):\n",
    "        if i == -y-x:\n",
    "                return (255,255,0)\n",
    "        elif i == -y-(2*x):\n",
    "            return (255,255,0)\n",
    "        elif i == -y-(4*x):\n",
    "            return (255,255,0)\n",
    "    return (0,0,0)\n",
    "#rectas diferente pendiente"
   ]
  },
  {
   "cell_type": "code",
   "execution_count": 40,
   "id": "c092bf1c",
   "metadata": {},
   "outputs": [
    {
     "data": {
      "image/png": "[encoded data removed]",
      "text/plain": [
       "<PIL.Image.Image image mode=RGB size=200x200 at 0x1FAE2F0BD00>"
      ]
     },
     "execution_count": 40,
     "metadata": {},
     "output_type": "execute_result"
    }
   ],
   "source": [
    "img = Image.new('RGB', (200,200), 0)\n",
    "pixeles = img.load()\n",
    "\n",
    "for y in range(img.size[1]):\n",
    "    for x in range(img.size[0]):\n",
    "        pixeles[x,y]=colorea(x-100,y-100)\n",
    "img"
   ]
  },
  {
   "cell_type": "code",
   "execution_count": 41,
   "id": "7b37815d",
   "metadata": {},
   "outputs": [],
   "source": [
    "def colorea(x,y):\n",
    "    for i in range(0,180):\n",
    "        if i == -y-x:\n",
    "                return (255,255,0)\n",
    "    return (0,0,0)\n",
    "#ajuste para colorear 180 rectas"
   ]
  },
  {
   "cell_type": "code",
   "execution_count": 42,
   "id": "34a7845e",
   "metadata": {},
   "outputs": [
    {
     "data": {
      "image/png": "[encoded data removed]",
      "text/plain": [
       "<PIL.Image.Image image mode=RGB size=200x200 at 0x1FAE2F0BEB0>"
      ]
     },
     "execution_count": 42,
     "metadata": {},
     "output_type": "execute_result"
    }
   ],
   "source": [
    "img = Image.new('RGB', (200,200), 0)\n",
    "pixeles = img.load()\n",
    "\n",
    "for y in range(img.size[1]):\n",
    "    for x in range(img.size[0]):\n",
    "        pixeles[x,y]=colorea(x-100,y-100)\n",
    "img"
   ]
  },
  {
   "cell_type": "code",
   "execution_count": 43,
   "id": "b64a62dd",
   "metadata": {},
   "outputs": [],
   "source": [
    "def colorea(x,y):\n",
    "    for i in range(0,190):\n",
    "        if i == -y-x:\n",
    "                return (255,255,0)\n",
    "    return (0,0,0)\n",
    "#ajuste para colorear 190 rectas"
   ]
  },
  {
   "cell_type": "code",
   "execution_count": 44,
   "id": "d34e9312",
   "metadata": {},
   "outputs": [
    {
     "data": {
      "image/png": "[encoded data removed]",
      "text/plain": [
       "<PIL.Image.Image image mode=RGB size=200x200 at 0x1FAE2F2F820>"
      ]
     },
     "execution_count": 44,
     "metadata": {},
     "output_type": "execute_result"
    }
   ],
   "source": [
    "img = Image.new('RGB', (200,200), 0)\n",
    "pixeles = img.load()\n",
    "\n",
    "for y in range(img.size[1]):\n",
    "    for x in range(img.size[0]):\n",
    "        pixeles[x,y]=colorea(x-100,y-100)\n",
    "img"
   ]
  },
  {
   "cell_type": "code",
   "execution_count": 45,
   "id": "97e4d39f",
   "metadata": {},
   "outputs": [],
   "source": [
    "def colorea(x,y):\n",
    "    for i in range(0,200):\n",
    "        if i == -y-x:\n",
    "                return (255,255,0)\n",
    "    return (0,0,0)"
   ]
  },
  {
   "cell_type": "code",
   "execution_count": 46,
   "id": "401b592d",
   "metadata": {},
   "outputs": [
    {
     "data": {
      "image/png": "[encoded data removed]",
      "text/plain": [
       "<PIL.Image.Image image mode=RGB size=200x200 at 0x1FAE2EF3BE0>"
      ]
     },
     "execution_count": 46,
     "metadata": {},
     "output_type": "execute_result"
    }
   ],
   "source": [
    "img = Image.new('RGB', (200,200), 0)\n",
    "pixeles = img.load()\n",
    "\n",
    "for y in range(img.size[1]):\n",
    "    for x in range(img.size[0]):\n",
    "        pixeles[x,y]=colorea(x-100,y-100)\n",
    "img\n",
    "#el punto (x=0, y=0) aún sigue negro"
   ]
  },
  {
   "cell_type": "code",
   "execution_count": 47,
   "id": "0691a1e3",
   "metadata": {},
   "outputs": [],
   "source": [
    "def colorea(x,y):\n",
    "    for i in range(0,201):\n",
    "        if i == -y-x:\n",
    "                return (255,255,0)\n",
    "    return (0,0,0)"
   ]
  },
  {
   "cell_type": "code",
   "execution_count": 48,
   "id": "054e2a42",
   "metadata": {},
   "outputs": [
    {
     "data": {
      "image/png": "[encoded data removed]",
      "text/plain": [
       "<PIL.Image.Image image mode=RGB size=200x200 at 0x1FAE2F0BCD0>"
      ]
     },
     "execution_count": 48,
     "metadata": {},
     "output_type": "execute_result"
    }
   ],
   "source": [
    "img = Image.new('RGB', (200,200), 0)\n",
    "pixeles = img.load()\n",
    "\n",
    "for y in range(img.size[1]):\n",
    "    for x in range(img.size[0]):\n",
    "        pixeles[x,y]=colorea(x-100,y-100)\n",
    "img\n",
    "#...?"
   ]
  },
  {
   "cell_type": "markdown",
   "id": "1a1b5e93",
   "metadata": {},
   "source": [
    "# Otras formas"
   ]
  },
  {
   "cell_type": "code",
   "execution_count": 49,
   "id": "193deae8",
   "metadata": {},
   "outputs": [],
   "source": [
    "def colorea(x,y):\n",
    "    for i in range(0,100):\n",
    "        if (i == (y-100)-((x-100)*(x-100)/5)) or (i == (y-150)-((x-50)*(x-50)/5)) or (i == (y-150)-((x-150)*(x-150)/5)):\n",
    "                return (255,255,0)\n",
    "    return (0,0,0)"
   ]
  },
  {
   "cell_type": "code",
   "execution_count": 50,
   "id": "c59ea285",
   "metadata": {},
   "outputs": [
    {
     "data": {
      "image/png": "[encoded data removed]",
      "text/plain": [
       "<PIL.Image.Image image mode=RGB size=200x200 at 0x1FAE2F341F0>"
      ]
     },
     "execution_count": 50,
     "metadata": {},
     "output_type": "execute_result"
    }
   ],
   "source": [
    "img = Image.new('RGB', (200,200), 0)\n",
    "pixeles = img.load()\n",
    "\n",
    "for y in range(img.size[1]):\n",
    "    for x in range(img.size[0]):\n",
    "        pixeles[x,y]=colorea(x,y)\n",
    "img"
   ]
  },
  {
   "cell_type": "code",
   "execution_count": 51,
   "id": "585c0a3a",
   "metadata": {},
   "outputs": [],
   "source": [
    "def colorea(x,y):\n",
    "    for i in range(0,100):\n",
    "        if (i == (y-100)-((x-100)*(x-100)/5)) or (i == (y-150)-((x-50)*(x-50)/5)) or (i == (y-150)-((x-150)*(x-150)/5)):\n",
    "                return (255,255,0)\n",
    "        elif (i == (-y+50)-((x-100)*(x-100)/5)) or (i == (-y+100)-((x-50)*(x-50)/5)) or (i == (-y+100)-((x-150)*(x-150)/5)):\n",
    "                return (128,255,0)\n",
    "    return (0,0,0)"
   ]
  },
  {
   "cell_type": "code",
   "execution_count": 52,
   "id": "1e4542bc",
   "metadata": {},
   "outputs": [
    {
     "data": {
      "image/png": "[encoded data removed]",
      "text/plain": [
       "<PIL.Image.Image image mode=RGB size=200x200 at 0x1FAE2F0BD30>"
      ]
     },
     "execution_count": 52,
     "metadata": {},
     "output_type": "execute_result"
    }
   ],
   "source": [
    "img = Image.new('RGB', (200,200), 0)\n",
    "pixeles = img.load()\n",
    "\n",
    "for y in range(img.size[1]):\n",
    "    for x in range(img.size[0]):\n",
    "        pixeles[x,y]=colorea(x,y)\n",
    "img"
   ]
  },
  {
   "cell_type": "code",
   "execution_count": 53,
   "id": "cd4e33b3",
   "metadata": {},
   "outputs": [],
   "source": [
    "def colorea(x,y):\n",
    "    for i in range(0,100):\n",
    "        if (i == (y-100)-((x-100)*(x-100)/5)) or (i == (y-150)-((x-50)*(x-50)/5)) or (i == (y-150)-((x-150)*(x-150)/5)):\n",
    "                return (255,255,0)\n",
    "        elif (i == (y-100)-((x-98)*(x-98)/5)) or (i == (y-150)-((x-48)*(x-48)/5)) or (i == (y-150)-((x-148)*(x-148)/5)):\n",
    "                return (128,255,0)\n",
    "    return (0,0,0)"
   ]
  },
  {
   "cell_type": "code",
   "execution_count": 54,
   "id": "b4c0b933",
   "metadata": {},
   "outputs": [
    {
     "data": {
      "image/png": "[encoded data removed]",
      "text/plain": [
       "<PIL.Image.Image image mode=RGB size=200x200 at 0x1FAE2F2FA30>"
      ]
     },
     "execution_count": 54,
     "metadata": {},
     "output_type": "execute_result"
    }
   ],
   "source": [
    "img = Image.new('RGB', (200,200), 0)\n",
    "pixeles = img.load()\n",
    "\n",
    "for y in range(img.size[1]):\n",
    "    for x in range(img.size[0]):\n",
    "        pixeles[x,y]=colorea(x,y)\n",
    "img"
   ]
  },
  {
   "cell_type": "code",
   "execution_count": 55,
   "id": "0d2097cc",
   "metadata": {},
   "outputs": [],
   "source": [
    "def colorea(x,y):\n",
    "    for i in range(0,100):\n",
    "        if (i == (y-100)-((x-100)*(x-100)/5)) or (i == (y-150)-((x-50)*(x-50)/5)) or (i == (y-150)-((x-150)*(x-150)/5)):\n",
    "                return (255,255,0)\n",
    "        elif (i == (y-100)-((x-98)*(x-98)/5)) or (i == (y-150)-((x-48)*(x-48)/5)) or (i == (y-150)-((x-148)*(x-148)/5)):\n",
    "                return (128,255,0)\n",
    "        elif (i == (y-100)-((x-96)*(x-96)/5)) or (i == (y-150)-((x-46)*(x-46)/5)) or (i == (y-150)-((x-146)*(x-146)/5)):\n",
    "            return (0,0,255)\n",
    "    return (0,0,0)"
   ]
  },
  {
   "cell_type": "code",
   "execution_count": 56,
   "id": "8bddb509",
   "metadata": {},
   "outputs": [
    {
     "data": {
      "image/png": "[encoded data removed]",
      "text/plain": [
       "<PIL.Image.Image image mode=RGB size=200x200 at 0x1FAE2F34820>"
      ]
     },
     "execution_count": 56,
     "metadata": {},
     "output_type": "execute_result"
    }
   ],
   "source": [
    "img = Image.new('RGB', (200,200), 0)\n",
    "pixeles = img.load()\n",
    "\n",
    "for y in range(img.size[1]):\n",
    "    for x in range(img.size[0]):\n",
    "        pixeles[x,y]=colorea(x,y)\n",
    "img"
   ]
  },
  {
   "cell_type": "code",
   "execution_count": 57,
   "id": "b9f8985a",
   "metadata": {},
   "outputs": [],
   "source": [
    "def colorea(x,y):\n",
    "    for i in range(0,1):\n",
    "        if (i == -y+50) or (i == -y-((x-100)*(x-100))+50):\n",
    "                return (255,255,0)\n",
    "    return (0,0,0)"
   ]
  },
  {
   "cell_type": "code",
   "execution_count": 58,
   "id": "49229561",
   "metadata": {},
   "outputs": [
    {
     "data": {
      "image/png": "[encoded data removed]",
      "text/plain": [
       "<PIL.Image.Image image mode=RGB size=200x200 at 0x1FAE2EF3970>"
      ]
     },
     "execution_count": 58,
     "metadata": {},
     "output_type": "execute_result"
    }
   ],
   "source": [
    "img = Image.new('RGB', (200,200), 0)\n",
    "pixeles = img.load()\n",
    "\n",
    "for y in range(img.size[1]):\n",
    "    for x in range(img.size[0]):\n",
    "        pixeles[x,y]=colorea(x,y)\n",
    "img\n",
    "#rebote de pelota"
   ]
  },
  {
   "cell_type": "code",
   "execution_count": 59,
   "id": "39e20440",
   "metadata": {},
   "outputs": [],
   "source": [
    "def colorea(x,y):\n",
    "    for i in range(0,40):\n",
    "        if (x%2==0) and (i == -y+50):\n",
    "            return (255,255,0)\n",
    "        elif (x%2!=0) and (i == -y+52):\n",
    "            return (255,255,0)\n",
    "        if (y%2==0) and (i == -x+150):\n",
    "            return (255,255,0)\n",
    "        elif (y%2!=0) and (i == -x+152):\n",
    "            return (255,255,0)\n",
    "        return (0,0,0)"
   ]
  },
  {
   "cell_type": "code",
   "execution_count": 60,
   "id": "0c98abaa",
   "metadata": {},
   "outputs": [
    {
     "data": {
      "image/png": "[encoded data removed]",
      "text/plain": [
       "<PIL.Image.Image image mode=RGB size=200x200 at 0x1FAE2F34F40>"
      ]
     },
     "execution_count": 60,
     "metadata": {},
     "output_type": "execute_result"
    }
   ],
   "source": [
    "img = Image.new('RGB', (200,200), 0)\n",
    "pixeles = img.load()\n",
    "\n",
    "for y in range(img.size[1]):\n",
    "    for x in range(img.size[0]):\n",
    "        pixeles[x,y]=colorea(x,y)\n",
    "img"
   ]
  },
  {
   "cell_type": "code",
   "execution_count": 61,
   "id": "280fbd4d",
   "metadata": {},
   "outputs": [],
   "source": [
    "def colorea(x,y):\n",
    "    for i in range(200,3600):\n",
    "        if (y%2==0)and(x%2==0)and(i == ((x-100)*(x-100))+((y-100)*(y-100))):\n",
    "                return (255,255,0)\n",
    "    return (0,0,0)"
   ]
  },
  {
   "cell_type": "code",
   "execution_count": 62,
   "id": "bc3bd96a",
   "metadata": {},
   "outputs": [
    {
     "data": {
      "image/png": "[encoded data removed]",
      "text/plain": [
       "<PIL.Image.Image image mode=RGB size=200x200 at 0x1FAE2F34AC0>"
      ]
     },
     "execution_count": 62,
     "metadata": {},
     "output_type": "execute_result"
    }
   ],
   "source": [
    "img = Image.new('RGB', (200,200), 0)\n",
    "pixeles = img.load()\n",
    "\n",
    "for y in range(img.size[1]):\n",
    "    for x in range(img.size[0]):\n",
    "        pixeles[x,y]=colorea(x,y)\n",
    "img"
   ]
  },
  {
   "cell_type": "markdown",
   "id": "cc77a7ca",
   "metadata": {},
   "source": [
    "# Aleatorio"
   ]
  },
  {
   "cell_type": "code",
   "execution_count": 63,
   "id": "98673969",
   "metadata": {},
   "outputs": [],
   "source": [
    "import random\n",
    "\n",
    "def colorea(x,y):\n",
    "    random.seed(x)\n",
    "    intervalor = int(20*random.random())\n",
    "    if intervalor-10*(int(5*random.random()))<y-100<intervalor+10*(int(5*random.random())):\n",
    "        return(255,255,0)\n",
    "    elif (75<x<120) and (intervalor-20*(int(5*random.random()))<y-100<intervalor+18*(int(5*random.random()))):\n",
    "        return(255,255,0)\n",
    "    return (0,0,0)\n",
    "#a partir de cada x se genera un intervalo aleatorio para colorear sus respectivos y"
   ]
  },
  {
   "cell_type": "code",
   "execution_count": 64,
   "id": "e33f1be1",
   "metadata": {},
   "outputs": [
    {
     "data": {
      "image/png": "[encoded data removed]",
      "text/plain": [
       "<PIL.Image.Image image mode=RGB size=200x200 at 0x1FAE2F5EC40>"
      ]
     },
     "execution_count": 64,
     "metadata": {},
     "output_type": "execute_result"
    }
   ],
   "source": [
    "img = Image.new('RGB', (200,200), 0)\n",
    "pixeles = img.load()\n",
    "\n",
    "for y in range(img.size[1]):\n",
    "    for x in range(img.size[0]):\n",
    "        pixeles[x,y]=colorea(x,y)\n",
    "img"
   ]
  },
  {
   "cell_type": "code",
   "execution_count": 65,
   "id": "3d5f2b4b",
   "metadata": {},
   "outputs": [],
   "source": [
    "def colorea(x,y):\n",
    "    inter = random.randint(-1, 2)\n",
    "    if (inter<y<inter+50)or(pixeles[x-20,y-20]==(0,0,0)):\n",
    "        return(255,255,0)\n",
    "    return (0,0,0)\n",
    "#el color depende de lo que se coloreo 20 periodos atrás (pixeles[x-20,y-20])"
   ]
  },
  {
   "cell_type": "code",
   "execution_count": 66,
   "id": "86f61703",
   "metadata": {},
   "outputs": [
    {
     "data": {
      "image/png": "[encoded data removed]",
      "text/plain": [
       "<PIL.Image.Image image mode=RGB size=200x200 at 0x1FAE2F346A0>"
      ]
     },
     "execution_count": 66,
     "metadata": {},
     "output_type": "execute_result"
    }
   ],
   "source": [
    "img = Image.new('RGB', (200,200), 0)\n",
    "pixeles = img.load()\n",
    "\n",
    "for y in range(img.size[1]):\n",
    "    for x in range(img.size[0]):\n",
    "        pixeles[x,y]=colorea(x,y)\n",
    "img"
   ]
  },
  {
   "cell_type": "code",
   "execution_count": 67,
   "id": "a537f89a",
   "metadata": {},
   "outputs": [],
   "source": [
    "def colorea(x,y):\n",
    "    inter = random.randint(-2, 2)\n",
    "    if (inter<y<inter+50)or(pixeles[x-20,y-20]==(0,0,0)):\n",
    "        return(255,255,0)\n",
    "    elif (inter<x<inter+50)or(pixeles[x-20,y-20]==(0,0,0)):\n",
    "        return(255,255,0)\n",
    "    return (0,0,0)"
   ]
  },
  {
   "cell_type": "code",
   "execution_count": 68,
   "id": "e9a9cfda",
   "metadata": {},
   "outputs": [
    {
     "data": {
      "image/png": "[encoded data removed]",
      "text/plain": [
       "<PIL.Image.Image image mode=RGB size=200x200 at 0x1FAE2F5E7F0>"
      ]
     },
     "execution_count": 68,
     "metadata": {},
     "output_type": "execute_result"
    }
   ],
   "source": [
    "img = Image.new('RGB', (200,200), 0)\n",
    "pixeles = img.load()\n",
    "\n",
    "for y in range(img.size[1]):\n",
    "    for x in range(img.size[0]):\n",
    "        pixeles[x,y]=colorea(x,y)\n",
    "img"
   ]
  },
  {
   "cell_type": "code",
   "execution_count": 69,
   "id": "83a3c992",
   "metadata": {},
   "outputs": [],
   "source": [
    "def colorea(x,y):\n",
    "    inter = random.randint(-2, 2)\n",
    "    if (inter<y<inter+50)or(pixeles[x-20,y-20]==(0,0,0)):\n",
    "        return(255,255,0)\n",
    "    elif (inter<x<inter+50)or(pixeles[x-20,y-20]==(0,0,0)):\n",
    "        return(128,255,0)\n",
    "    return (0,0,0)"
   ]
  },
  {
   "cell_type": "code",
   "execution_count": 70,
   "id": "50c4425b",
   "metadata": {},
   "outputs": [
    {
     "data": {
      "image/png": "[encoded data removed]",
      "text/plain": [
       "<PIL.Image.Image image mode=RGB size=200x200 at 0x1FAE2F614F0>"
      ]
     },
     "execution_count": 70,
     "metadata": {},
     "output_type": "execute_result"
    }
   ],
   "source": [
    "img = Image.new('RGB', (200,200), 0)\n",
    "pixeles = img.load()\n",
    "\n",
    "for y in range(img.size[1]):\n",
    "    for x in range(img.size[0]):\n",
    "        pixeles[x,y]=colorea(x,y)\n",
    "img"
   ]
  },
  {
   "cell_type": "code",
   "execution_count": 71,
   "id": "cef147dd",
   "metadata": {},
   "outputs": [],
   "source": [
    "def colorea(x,y):\n",
    "    inter = random.randint(-50,30 )\n",
    "    if (inter-40<y<inter+10)or(pixeles[x-4,y-12]==(0,0,0)):\n",
    "        return(255,255,0)\n",
    "    elif (inter-40<x<inter+40)or(pixeles[x-4,y-12]==(255,255,0)):\n",
    "        return(128,255,0)\n",
    "    return (0,0,0)"
   ]
  },
  {
   "cell_type": "code",
   "execution_count": 72,
   "id": "640db1d3",
   "metadata": {},
   "outputs": [
    {
     "data": {
      "image/png": "[encoded data removed]",
      "text/plain": [
       "<PIL.Image.Image image mode=RGB size=200x200 at 0x1FAE2F619A0>"
      ]
     },
     "execution_count": 72,
     "metadata": {},
     "output_type": "execute_result"
    }
   ],
   "source": [
    "img = Image.new('RGB', (200,200), 0)\n",
    "pixeles = img.load()\n",
    "\n",
    "for y in range(img.size[1]):\n",
    "    for x in range(img.size[0]):\n",
    "        pixeles[x,y]=colorea(x,y)\n",
    "img"
   ]
  },
  {
   "cell_type": "code",
   "execution_count": 73,
   "id": "c0c3c960",
   "metadata": {},
   "outputs": [],
   "source": [
    "def colorea(x,y):\n",
    "    inter = random.randint(-1,1 )\n",
    "    if (inter<y<inter)or(pixeles[x-4,y-12]==(0,0,0)):\n",
    "        return(255,255,0)\n",
    "    elif (inter<x<inter)or(pixeles[x-4,y-12]==(255,255,0)):\n",
    "        return(128,255,0)\n",
    "    elif pixeles[x-4,y-12]==(128,255,0):\n",
    "          return(0,0,255)\n",
    "    return (0,0,0)"
   ]
  },
  {
   "cell_type": "code",
   "execution_count": 74,
   "id": "a1b78805",
   "metadata": {
    "scrolled": true
   },
   "outputs": [
    {
     "data": {
      "image/png": "[encoded data removed]",
      "text/plain": [
       "<PIL.Image.Image image mode=RGB size=200x200 at 0x1FAE2F6B1C0>"
      ]
     },
     "execution_count": 74,
     "metadata": {},
     "output_type": "execute_result"
    }
   ],
   "source": [
    "img = Image.new('RGB', (200,200), 0)\n",
    "pixeles = img.load()\n",
    "\n",
    "for y in range(img.size[1]):\n",
    "    for x in range(img.size[0]):\n",
    "        pixeles[x,y]=colorea(x,y)\n",
    "img"
   ]
  },
  {
   "cell_type": "markdown",
   "id": "6f444131",
   "metadata": {},
   "source": [
    "# Boo-boo diluido"
   ]
  },
  {
   "cell_type": "code",
   "execution_count": 75,
   "id": "7b574c3e",
   "metadata": {},
   "outputs": [
    {
     "data": {
      "image/png": "[encoded data removed]",
      "text/plain": [
       "<PIL.Image.Image image mode=RGB size=200x200 at 0x1FAE2F3FBE0>"
      ]
     },
     "execution_count": 75,
     "metadata": {},
     "output_type": "execute_result"
    }
   ],
   "source": [
    "img = Image.new('RGB', (200,200), 0)\n",
    "pixeles = img.load()\n",
    "\n",
    "for y in range(img.size[1]):\n",
    "    for x in range(img.size[0]):\n",
    "        for i in range(100,800):\n",
    "            if i == ((x-50)*(x-50))+((y-100)*(y-100)):\n",
    "                pixeles[x,y]=(255,255,0)\n",
    "                \n",
    "for y in range(img.size[1]):\n",
    "    for x in range(img.size[0]):\n",
    "        for i in range(200,1500):\n",
    "            if i == ((x-100)*(x-100))+((y-30)*(y-30)):\n",
    "                pixeles[x,y]=(255,255,0)\n",
    "\n",
    "for y in range(img.size[1]):\n",
    "    for x in range(img.size[0]):\n",
    "        for i in range(800,2000):\n",
    "            if i == ((x-170)*(x-170))+((y-150)*(y-150)):\n",
    "                pixeles[x,y]=(255,255,0)\n",
    "\n",
    "for y in range(img.size[1]):\n",
    "    for x in range(img.size[0]):\n",
    "        inter = random.randint(-120, 20)\n",
    "        if (inter<y<inter+50)or(pixeles[x-2,y-2]==(0,0,0)):\n",
    "            pixeles[x,y]=(255,255,0)\n",
    "                \n",
    "img"
   ]
  }
 ],
 "metadata": {
  "kernelspec": {
   "display_name": "Python 3",
   "language": "python",
   "name": "python3"
  },
  "language_info": {
   "codemirror_mode": {
    "name": "ipython",
    "version": 3
   },
   "file_extension": ".py",
   "mimetype": "text/x-python",
   "name": "python",
   "nbconvert_exporter": "python",
   "pygments_lexer": "ipython3",
   "version": "3.8.8"
  }
 },
 "nbformat": 4,
 "nbformat_minor": 5
}
